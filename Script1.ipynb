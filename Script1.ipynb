{
 "cells": [
  {
   "cell_type": "markdown",
   "id": "59a91fbe",
   "metadata": {},
   "source": [
    "## 1. BASICS\n",
    "\n",
    "### 1.1:"
   ]
  },
  {
   "cell_type": "code",
   "execution_count": 1,
   "id": "c51a78f3",
   "metadata": {},
   "outputs": [
    {
     "data": {
      "text/plain": [
       "4"
      ]
     },
     "execution_count": 1,
     "metadata": {},
     "output_type": "execute_result"
    }
   ],
   "source": [
    "3+1\n"
   ]
  },
  {
   "cell_type": "code",
   "execution_count": 3,
   "id": "d27c05c3",
   "metadata": {},
   "outputs": [
    {
     "data": {
      "text/plain": [
       "9"
      ]
     },
     "execution_count": 3,
     "metadata": {},
     "output_type": "execute_result"
    }
   ],
   "source": [
    "3*3"
   ]
  },
  {
   "cell_type": "code",
   "execution_count": 4,
   "id": "bb714e54",
   "metadata": {},
   "outputs": [
    {
     "data": {
      "text/plain": [
       "8"
      ]
     },
     "execution_count": 4,
     "metadata": {},
     "output_type": "execute_result"
    }
   ],
   "source": [
    "2**3"
   ]
  },
  {
   "cell_type": "code",
   "execution_count": 5,
   "id": "1d19180d",
   "metadata": {},
   "outputs": [
    {
     "data": {
      "text/plain": [
       "'Hello, world!'"
      ]
     },
     "execution_count": 5,
     "metadata": {},
     "output_type": "execute_result"
    }
   ],
   "source": [
    "\"Hello, world!\""
   ]
  },
  {
   "cell_type": "markdown",
   "id": "2a56a46a",
   "metadata": {},
   "source": [
    "1.2)   When we run this script, we calculate this basics math operations and print Hello, world!"
   ]
  },
  {
   "cell_type": "code",
   "execution_count": 6,
   "id": "703f0107",
   "metadata": {},
   "outputs": [
    {
     "data": {
      "text/plain": [
       "'python'"
      ]
     },
     "execution_count": 6,
     "metadata": {},
     "output_type": "execute_result"
    }
   ],
   "source": [
    "'py'+'thon'"
   ]
  },
  {
   "cell_type": "code",
   "execution_count": 7,
   "id": "54aa0352",
   "metadata": {},
   "outputs": [
    {
     "data": {
      "text/plain": [
       "'pypypython'"
      ]
     },
     "execution_count": 7,
     "metadata": {},
     "output_type": "execute_result"
    }
   ],
   "source": [
    "'py'*3+'thon'"
   ]
  },
  {
   "cell_type": "code",
   "execution_count": 8,
   "id": "8d1c7086",
   "metadata": {},
   "outputs": [
    {
     "ename": "TypeError",
     "evalue": "unsupported operand type(s) for -: 'str' and 'str'",
     "output_type": "error",
     "traceback": [
      "\u001b[1;31m---------------------------------------------------------------------------\u001b[0m",
      "\u001b[1;31mTypeError\u001b[0m                                 Traceback (most recent call last)",
      "\u001b[1;32m~\\AppData\\Local\\Temp/ipykernel_12732/1797233226.py\u001b[0m in \u001b[0;36m<module>\u001b[1;34m\u001b[0m\n\u001b[1;32m----> 1\u001b[1;33m \u001b[1;34m'py'\u001b[0m\u001b[1;33m-\u001b[0m\u001b[1;34m'py'\u001b[0m\u001b[1;33m\u001b[0m\u001b[1;33m\u001b[0m\u001b[0m\n\u001b[0m",
      "\u001b[1;31mTypeError\u001b[0m: unsupported operand type(s) for -: 'str' and 'str'"
     ]
    }
   ],
   "source": [
    "'py'-'py'"
   ]
  },
  {
   "cell_type": "code",
   "execution_count": 9,
   "id": "85553a66",
   "metadata": {},
   "outputs": [
    {
     "data": {
      "text/plain": [
       "'333'"
      ]
     },
     "execution_count": 9,
     "metadata": {},
     "output_type": "execute_result"
    }
   ],
   "source": [
    "3*'3'"
   ]
  },
  {
   "cell_type": "code",
   "execution_count": 10,
   "id": "1eb97547",
   "metadata": {},
   "outputs": [
    {
     "ename": "NameError",
     "evalue": "name 'a' is not defined",
     "output_type": "error",
     "traceback": [
      "\u001b[1;31m---------------------------------------------------------------------------\u001b[0m",
      "\u001b[1;31mNameError\u001b[0m                                 Traceback (most recent call last)",
      "\u001b[1;32m~\\AppData\\Local\\Temp/ipykernel_12732/2167009006.py\u001b[0m in \u001b[0;36m<module>\u001b[1;34m\u001b[0m\n\u001b[1;32m----> 1\u001b[1;33m \u001b[0ma\u001b[0m\u001b[1;33m\u001b[0m\u001b[1;33m\u001b[0m\u001b[0m\n\u001b[0m",
      "\u001b[1;31mNameError\u001b[0m: name 'a' is not defined"
     ]
    }
   ],
   "source": [
    "a"
   ]
  },
  {
   "cell_type": "code",
   "execution_count": 11,
   "id": "04eb0efc",
   "metadata": {},
   "outputs": [],
   "source": [
    "a=3"
   ]
  },
  {
   "cell_type": "code",
   "execution_count": 12,
   "id": "3555c999",
   "metadata": {},
   "outputs": [
    {
     "data": {
      "text/plain": [
       "3"
      ]
     },
     "execution_count": 12,
     "metadata": {},
     "output_type": "execute_result"
    }
   ],
   "source": [
    "a"
   ]
  },
  {
   "cell_type": "markdown",
   "id": "c137e612",
   "metadata": {},
   "source": [
    "Exercise 1.3 -->in c option we cant substract 2 string values."
   ]
  },
  {
   "cell_type": "code",
   "execution_count": 13,
   "id": "ba561aea",
   "metadata": {},
   "outputs": [
    {
     "data": {
      "text/plain": [
       "True"
      ]
     },
     "execution_count": 13,
     "metadata": {},
     "output_type": "execute_result"
    }
   ],
   "source": [
    "1==1"
   ]
  },
  {
   "cell_type": "code",
   "execution_count": 14,
   "id": "1a79918f",
   "metadata": {},
   "outputs": [
    {
     "ename": "NameError",
     "evalue": "name 'true' is not defined",
     "output_type": "error",
     "traceback": [
      "\u001b[1;31m---------------------------------------------------------------------------\u001b[0m",
      "\u001b[1;31mNameError\u001b[0m                                 Traceback (most recent call last)",
      "\u001b[1;32m~\\AppData\\Local\\Temp/ipykernel_12732/410070502.py\u001b[0m in \u001b[0;36m<module>\u001b[1;34m\u001b[0m\n\u001b[1;32m----> 1\u001b[1;33m \u001b[1;36m1\u001b[0m\u001b[1;33m==\u001b[0m\u001b[0mtrue\u001b[0m\u001b[1;33m\u001b[0m\u001b[1;33m\u001b[0m\u001b[0m\n\u001b[0m",
      "\u001b[1;31mNameError\u001b[0m: name 'true' is not defined"
     ]
    }
   ],
   "source": [
    "1==true\n"
   ]
  },
  {
   "cell_type": "code",
   "execution_count": 15,
   "id": "bfcf0040",
   "metadata": {},
   "outputs": [
    {
     "ename": "NameError",
     "evalue": "name 'true' is not defined",
     "output_type": "error",
     "traceback": [
      "\u001b[1;31m---------------------------------------------------------------------------\u001b[0m",
      "\u001b[1;31mNameError\u001b[0m                                 Traceback (most recent call last)",
      "\u001b[1;32m~\\AppData\\Local\\Temp/ipykernel_12732/2041020615.py\u001b[0m in \u001b[0;36m<module>\u001b[1;34m\u001b[0m\n\u001b[1;32m----> 1\u001b[1;33m \u001b[1;36m0\u001b[0m\u001b[1;33m==\u001b[0m\u001b[0mtrue\u001b[0m\u001b[1;33m\u001b[0m\u001b[1;33m\u001b[0m\u001b[0m\n\u001b[0m",
      "\u001b[1;31mNameError\u001b[0m: name 'true' is not defined"
     ]
    }
   ],
   "source": [
    "0==true"
   ]
  },
  {
   "cell_type": "code",
   "execution_count": 16,
   "id": "097ce89c",
   "metadata": {},
   "outputs": [
    {
     "ename": "NameError",
     "evalue": "name 'false' is not defined",
     "output_type": "error",
     "traceback": [
      "\u001b[1;31m---------------------------------------------------------------------------\u001b[0m",
      "\u001b[1;31mNameError\u001b[0m                                 Traceback (most recent call last)",
      "\u001b[1;32m~\\AppData\\Local\\Temp/ipykernel_12732/733214876.py\u001b[0m in \u001b[0;36m<module>\u001b[1;34m\u001b[0m\n\u001b[1;32m----> 1\u001b[1;33m \u001b[1;36m0\u001b[0m\u001b[1;33m==\u001b[0m\u001b[0mfalse\u001b[0m\u001b[1;33m\u001b[0m\u001b[1;33m\u001b[0m\u001b[0m\n\u001b[0m",
      "\u001b[1;31mNameError\u001b[0m: name 'false' is not defined"
     ]
    }
   ],
   "source": [
    "0==false"
   ]
  },
  {
   "cell_type": "code",
   "execution_count": 17,
   "id": "4d1238ea",
   "metadata": {},
   "outputs": [
    {
     "data": {
      "text/plain": [
       "True"
      ]
     },
     "execution_count": 17,
     "metadata": {},
     "output_type": "execute_result"
    }
   ],
   "source": [
    "3==1*3"
   ]
  },
  {
   "cell_type": "code",
   "execution_count": 18,
   "id": "456eac0c",
   "metadata": {},
   "outputs": [
    {
     "data": {
      "text/plain": [
       "0"
      ]
     },
     "execution_count": 18,
     "metadata": {},
     "output_type": "execute_result"
    }
   ],
   "source": [
    "(3==1)*3"
   ]
  },
  {
   "cell_type": "markdown",
   "id": "7ac7dff4",
   "metadata": {},
   "source": [
    "in this exercise when we multiplaction false variable and 3 we calculete 0"
   ]
  },
  {
   "cell_type": "code",
   "execution_count": 19,
   "id": "0b889c6a",
   "metadata": {},
   "outputs": [
    {
     "data": {
      "text/plain": [
       "False"
      ]
     },
     "execution_count": 19,
     "metadata": {},
     "output_type": "execute_result"
    }
   ],
   "source": [
    "(3 == 3) * 4 + 3 == 1"
   ]
  },
  {
   "cell_type": "markdown",
   "id": "a54d7005",
   "metadata": {},
   "source": [
    "when we add true to false variables we calculate false variable"
   ]
  },
  {
   "cell_type": "code",
   "execution_count": 20,
   "id": "175b396a",
   "metadata": {},
   "outputs": [
    {
     "data": {
      "text/plain": [
       "False"
      ]
     },
     "execution_count": 20,
     "metadata": {},
     "output_type": "execute_result"
    }
   ],
   "source": [
    " 3**5 >= 4**4\n"
   ]
  },
  {
   "cell_type": "markdown",
   "id": "64ba9be0",
   "metadata": {},
   "source": [
    "###  1.5:INTEGERS"
   ]
  },
  {
   "cell_type": "code",
   "execution_count": 21,
   "id": "da07bb75",
   "metadata": {},
   "outputs": [
    {
     "data": {
      "text/plain": [
       "1.6666666666666667"
      ]
     },
     "execution_count": 21,
     "metadata": {},
     "output_type": "execute_result"
    }
   ],
   "source": [
    "5/3\n",
    "\n"
   ]
  },
  {
   "cell_type": "code",
   "execution_count": 22,
   "id": "a8524b34",
   "metadata": {},
   "outputs": [
    {
     "data": {
      "text/plain": [
       "2"
      ]
     },
     "execution_count": 22,
     "metadata": {},
     "output_type": "execute_result"
    }
   ],
   "source": [
    "5%3"
   ]
  },
  {
   "cell_type": "markdown",
   "id": "7e69848d",
   "metadata": {},
   "source": [
    "5mod3 =2"
   ]
  },
  {
   "cell_type": "code",
   "execution_count": 23,
   "id": "9f69cef5",
   "metadata": {},
   "outputs": [
    {
     "data": {
      "text/plain": [
       "1.6666666666666667"
      ]
     },
     "execution_count": 23,
     "metadata": {},
     "output_type": "execute_result"
    }
   ],
   "source": [
    "5.0 / 3\n"
   ]
  },
  {
   "cell_type": "code",
   "execution_count": 24,
   "id": "c23f0dd5",
   "metadata": {},
   "outputs": [
    {
     "data": {
      "text/plain": [
       "1.6666666666666667"
      ]
     },
     "execution_count": 24,
     "metadata": {},
     "output_type": "execute_result"
    }
   ],
   "source": [
    "5 / 3.0"
   ]
  },
  {
   "cell_type": "code",
   "execution_count": 25,
   "id": "868bf6ae",
   "metadata": {},
   "outputs": [
    {
     "data": {
      "text/plain": [
       "2.2"
      ]
     },
     "execution_count": 25,
     "metadata": {},
     "output_type": "execute_result"
    }
   ],
   "source": [
    "5.2 % 3"
   ]
  },
  {
   "cell_type": "code",
   "execution_count": 26,
   "id": "8afc60a0",
   "metadata": {},
   "outputs": [
    {
     "data": {
      "text/plain": [
       "1775896810483121914350934797871501063452843428843794422323202530887281536545210629921129898113201749875234297340507804201761453596034016264189501186924066128377025843892373608427790859511135990682732202975330824797118808624727351608183194154557208730494440110429635650057431833674286462463508755276302896154336475782768613964332764108132533925570342220340698973761380541294970139762186212823359128790706292900765512137078550033912252338262922477518858757114840012576514724742388124595061301502222934806074032688691170880996881967426442947828261057852871032366879179996122216385870273020506079240103910728766397733398071775041745854959302025036249707279600400001"
      ]
     },
     "execution_count": 26,
     "metadata": {},
     "output_type": "execute_result"
    }
   ],
   "source": [
    "2001 ** 200\n"
   ]
  },
  {
   "cell_type": "markdown",
   "id": "7f627cb4",
   "metadata": {},
   "source": [
    "### 1.6:Floats\n"
   ]
  },
  {
   "cell_type": "code",
   "execution_count": 27,
   "id": "b11b6765",
   "metadata": {},
   "outputs": [
    {
     "ename": "OverflowError",
     "evalue": "(34, 'Result too large')",
     "output_type": "error",
     "traceback": [
      "\u001b[1;31m---------------------------------------------------------------------------\u001b[0m",
      "\u001b[1;31mOverflowError\u001b[0m                             Traceback (most recent call last)",
      "\u001b[1;32m~\\AppData\\Local\\Temp/ipykernel_12732/2640983736.py\u001b[0m in \u001b[0;36m<module>\u001b[1;34m\u001b[0m\n\u001b[1;32m----> 1\u001b[1;33m \u001b[1;36m2000.3\u001b[0m \u001b[1;33m**\u001b[0m \u001b[1;36m200\u001b[0m\u001b[1;33m\u001b[0m\u001b[1;33m\u001b[0m\u001b[0m\n\u001b[0m",
      "\u001b[1;31mOverflowError\u001b[0m: (34, 'Result too large')"
     ]
    }
   ],
   "source": [
    "2000.3 ** 200"
   ]
  },
  {
   "cell_type": "markdown",
   "id": "f5418c94",
   "metadata": {},
   "source": [
    "the results too large for float value"
   ]
  },
  {
   "cell_type": "code",
   "execution_count": 28,
   "id": "268336c6",
   "metadata": {},
   "outputs": [
    {
     "data": {
      "text/plain": [
       "1.0"
      ]
     },
     "execution_count": 28,
     "metadata": {},
     "output_type": "execute_result"
    }
   ],
   "source": [
    "1.0 + 1.0 - 1.0\n",
    "\n"
   ]
  },
  {
   "cell_type": "code",
   "execution_count": 29,
   "id": "fe1b3a80",
   "metadata": {},
   "outputs": [
    {
     "data": {
      "text/plain": [
       "0.0"
      ]
     },
     "execution_count": 29,
     "metadata": {},
     "output_type": "execute_result"
    }
   ],
   "source": [
    "1.0 + 1.0e20 - 1.0e20\n"
   ]
  },
  {
   "cell_type": "markdown",
   "id": "aecd0cba",
   "metadata": {},
   "source": [
    "### 1.7:"
   ]
  },
  {
   "cell_type": "code",
   "execution_count": 31,
   "id": "e63fb46e",
   "metadata": {},
   "outputs": [
    {
     "data": {
      "text/plain": [
       "'Hello, Mustafa Bulut'"
      ]
     },
     "execution_count": 31,
     "metadata": {},
     "output_type": "execute_result"
    }
   ],
   "source": [
    "\"Hello, Mustafa Bulut\"\n"
   ]
  },
  {
   "cell_type": "code",
   "execution_count": 32,
   "id": "0c6cd70d",
   "metadata": {},
   "outputs": [
    {
     "data": {
      "text/plain": [
       "123.0"
      ]
     },
     "execution_count": 32,
     "metadata": {},
     "output_type": "execute_result"
    }
   ],
   "source": [
    "float(123)"
   ]
  },
  {
   "cell_type": "markdown",
   "id": "7c55abe2",
   "metadata": {},
   "source": [
    "we add ',' to int variables for using float"
   ]
  },
  {
   "cell_type": "code",
   "execution_count": 34,
   "id": "364fa313",
   "metadata": {},
   "outputs": [
    {
     "ename": "SyntaxError",
     "evalue": "invalid character '’' (U+2019) (Temp/ipykernel_12732/744351499.py, line 1)",
     "output_type": "error",
     "traceback": [
      "\u001b[1;36m  File \u001b[1;32m\"C:\\Users\\Adem\\AppData\\Local\\Temp/ipykernel_12732/744351499.py\"\u001b[1;36m, line \u001b[1;32m1\u001b[0m\n\u001b[1;33m    float(’123’)\u001b[0m\n\u001b[1;37m          ^\u001b[0m\n\u001b[1;31mSyntaxError\u001b[0m\u001b[1;31m:\u001b[0m invalid character '’' (U+2019)\n"
     ]
    }
   ],
   "source": [
    "float(’123’)\n"
   ]
  },
  {
   "cell_type": "markdown",
   "id": "a03a968d",
   "metadata": {},
   "source": [
    "we cant cast string variables to float"
   ]
  },
  {
   "cell_type": "code",
   "execution_count": 35,
   "id": "fc848e9f",
   "metadata": {},
   "outputs": [
    {
     "ename": "SyntaxError",
     "evalue": "invalid character '’' (U+2019) (Temp/ipykernel_12732/2284293612.py, line 1)",
     "output_type": "error",
     "traceback": [
      "\u001b[1;36m  File \u001b[1;32m\"C:\\Users\\Adem\\AppData\\Local\\Temp/ipykernel_12732/2284293612.py\"\u001b[1;36m, line \u001b[1;32m1\u001b[0m\n\u001b[1;33m    float(’123.23’)\u001b[0m\n\u001b[1;37m          ^\u001b[0m\n\u001b[1;31mSyntaxError\u001b[0m\u001b[1;31m:\u001b[0m invalid character '’' (U+2019)\n"
     ]
    }
   ],
   "source": [
    "float(’123.23’)"
   ]
  },
  {
   "cell_type": "code",
   "execution_count": 36,
   "id": "91387d90",
   "metadata": {},
   "outputs": [
    {
     "data": {
      "text/plain": [
       "123"
      ]
     },
     "execution_count": 36,
     "metadata": {},
     "output_type": "execute_result"
    }
   ],
   "source": [
    "int(123.23)\n"
   ]
  },
  {
   "cell_type": "markdown",
   "id": "8408c1e6",
   "metadata": {},
   "source": [
    "we remove ',' why casting float to int "
   ]
  },
  {
   "cell_type": "code",
   "execution_count": 37,
   "id": "76e1b3ae",
   "metadata": {},
   "outputs": [
    {
     "ename": "SyntaxError",
     "evalue": "invalid character '’' (U+2019) (Temp/ipykernel_12732/629681956.py, line 1)",
     "output_type": "error",
     "traceback": [
      "\u001b[1;36m  File \u001b[1;32m\"C:\\Users\\Adem\\AppData\\Local\\Temp/ipykernel_12732/629681956.py\"\u001b[1;36m, line \u001b[1;32m1\u001b[0m\n\u001b[1;33m    int(’123.23’)\u001b[0m\n\u001b[1;37m        ^\u001b[0m\n\u001b[1;31mSyntaxError\u001b[0m\u001b[1;31m:\u001b[0m invalid character '’' (U+2019)\n"
     ]
    }
   ],
   "source": [
    "int(’123.23’)"
   ]
  },
  {
   "cell_type": "markdown",
   "id": "7adfd985",
   "metadata": {},
   "source": [
    "we cant cast string variables to float"
   ]
  },
  {
   "cell_type": "code",
   "execution_count": 38,
   "id": "560dcc65",
   "metadata": {},
   "outputs": [
    {
     "ename": "SyntaxError",
     "evalue": "invalid character '’' (U+2019) (Temp/ipykernel_12732/676131684.py, line 1)",
     "output_type": "error",
     "traceback": [
      "\u001b[1;36m  File \u001b[1;32m\"C:\\Users\\Adem\\AppData\\Local\\Temp/ipykernel_12732/676131684.py\"\u001b[1;36m, line \u001b[1;32m1\u001b[0m\n\u001b[1;33m    int(float(’123.23’))\u001b[0m\n\u001b[1;37m              ^\u001b[0m\n\u001b[1;31mSyntaxError\u001b[0m\u001b[1;31m:\u001b[0m invalid character '’' (U+2019)\n"
     ]
    }
   ],
   "source": [
    "int(float(’123.23’))\n"
   ]
  },
  {
   "cell_type": "markdown",
   "id": "62e2b9c8",
   "metadata": {},
   "source": [
    "we cant cast string variables to float"
   ]
  },
  {
   "cell_type": "code",
   "execution_count": 40,
   "id": "a82f5f33",
   "metadata": {},
   "outputs": [
    {
     "data": {
      "text/plain": [
       "'12'"
      ]
     },
     "execution_count": 40,
     "metadata": {},
     "output_type": "execute_result"
    }
   ],
   "source": [
    "str(12)\n"
   ]
  },
  {
   "cell_type": "code",
   "execution_count": 41,
   "id": "83dc0c24",
   "metadata": {},
   "outputs": [
    {
     "data": {
      "text/plain": [
       "'12.2'"
      ]
     },
     "execution_count": 41,
     "metadata": {},
     "output_type": "execute_result"
    }
   ],
   "source": [
    "str(12.2)"
   ]
  },
  {
   "cell_type": "markdown",
   "id": "def672cb",
   "metadata": {},
   "source": [
    "this variables string now"
   ]
  },
  {
   "cell_type": "code",
   "execution_count": 42,
   "id": "a7e2f4e3",
   "metadata": {},
   "outputs": [
    {
     "ename": "SyntaxError",
     "evalue": "invalid character '’' (U+2019) (Temp/ipykernel_12732/2240686934.py, line 1)",
     "output_type": "error",
     "traceback": [
      "\u001b[1;36m  File \u001b[1;32m\"C:\\Users\\Adem\\AppData\\Local\\Temp/ipykernel_12732/2240686934.py\"\u001b[1;36m, line \u001b[1;32m1\u001b[0m\n\u001b[1;33m    bool(’a’)\u001b[0m\n\u001b[1;37m         ^\u001b[0m\n\u001b[1;31mSyntaxError\u001b[0m\u001b[1;31m:\u001b[0m invalid character '’' (U+2019)\n"
     ]
    }
   ],
   "source": [
    "bool(’a’)"
   ]
  },
  {
   "cell_type": "markdown",
   "id": "8ebca06b",
   "metadata": {},
   "source": [
    "we can use true or false "
   ]
  },
  {
   "cell_type": "code",
   "execution_count": 43,
   "id": "c2a35b5d",
   "metadata": {},
   "outputs": [
    {
     "data": {
      "text/plain": [
       "False"
      ]
     },
     "execution_count": 43,
     "metadata": {},
     "output_type": "execute_result"
    }
   ],
   "source": [
    "bool(0)\n"
   ]
  },
  {
   "cell_type": "code",
   "execution_count": 44,
   "id": "5f5b2515",
   "metadata": {},
   "outputs": [
    {
     "data": {
      "text/plain": [
       "True"
      ]
     },
     "execution_count": 44,
     "metadata": {},
     "output_type": "execute_result"
    }
   ],
   "source": [
    "bool(0.1)"
   ]
  },
  {
   "cell_type": "markdown",
   "id": "93f0cb5e",
   "metadata": {},
   "source": [
    "#  2-Control Flow"
   ]
  },
  {
   "cell_type": "code",
   "execution_count": 45,
   "id": "8ca3652a",
   "metadata": {},
   "outputs": [
    {
     "data": {
      "text/plain": [
       "range(0, 5)"
      ]
     },
     "execution_count": 45,
     "metadata": {},
     "output_type": "execute_result"
    }
   ],
   "source": [
    "range(5)"
   ]
  },
  {
   "cell_type": "code",
   "execution_count": 46,
   "id": "7bf5a3fb",
   "metadata": {},
   "outputs": [
    {
     "data": {
      "text/plain": [
       "range"
      ]
     },
     "execution_count": 46,
     "metadata": {},
     "output_type": "execute_result"
    }
   ],
   "source": [
    "type(range(5))"
   ]
  },
  {
   "cell_type": "markdown",
   "id": "8fd858e7",
   "metadata": {},
   "source": [
    "it's start from 0(initial value for python) and go to 5"
   ]
  },
  {
   "cell_type": "code",
   "execution_count": 47,
   "id": "144abb64",
   "metadata": {},
   "outputs": [
    {
     "name": "stdout",
     "output_type": "stream",
     "text": [
      "0,1,2,3,4,5,6,7,8,9,10,11,12,13,14,15,16,17,18,19,20,21,22,23,24,25,26,27,28,29,30,31,32,33,34,35,36,37,38,39,40,41,42,43,44,45,46,47,48,49,50,51,52,53,54,55,56,57,58,59,60,61,62,63,64,65,66,67,68,69,70,71,72,73,74,75,76,77,78,79,80,81,82,83,84,85,86,87,88,89,90,91,92,93,94,95,96,97,98,99,100,"
     ]
    }
   ],
   "source": [
    "for i in range(101):\n",
    "    print(i , end=',')"
   ]
  },
  {
   "cell_type": "code",
   "execution_count": 48,
   "id": "0c83b01d",
   "metadata": {},
   "outputs": [
    {
     "name": "stdout",
     "output_type": "stream",
     "text": [
      "0,7,14,21,28,35,42,49,56,63,70,77,84,91,98,"
     ]
    }
   ],
   "source": [
    "for i in range (0,101,7):\n",
    "    print(i,end=',')"
   ]
  },
  {
   "cell_type": "code",
   "execution_count": 50,
   "id": "ddf04541",
   "metadata": {},
   "outputs": [
    {
     "name": "stdout",
     "output_type": "stream",
     "text": [
      "5,10,20,25,35,40,50,55,65,70,80,85,95,100,"
     ]
    }
   ],
   "source": [
    "for i in range(1,101):\n",
    "    if(i%5==0 and i%3!=0):\n",
    "        print(i,end=',')"
   ]
  },
  {
   "cell_type": "code",
   "execution_count": 53,
   "id": "014f5757",
   "metadata": {},
   "outputs": [
    {
     "name": "stdout",
     "output_type": "stream",
     "text": [
      "1,2,4,5,10,"
     ]
    }
   ],
   "source": [
    "for i in range(1,20):\n",
    "    if(20 % i==0):\n",
    "        print(i,end=',')\n",
    "    i=i+1"
   ]
  },
  {
   "cell_type": "markdown",
   "id": "735f41c3",
   "metadata": {},
   "source": []
  },
  {
   "cell_type": "code",
   "execution_count": 1,
   "id": "d5e323f2",
   "metadata": {},
   "outputs": [
    {
     "name": "stdout",
     "output_type": "stream",
     "text": [
      "0,1,2,3,4,5,6,7,8,9,10,11,12,13,14,15,16,17,18,19,20,21,22,23,24,25,26,27,28,29,30,31,32,33,34,35,36,37,38,39,40,41,42,43,44,45,46,47,48,49,50,51,52,53,54,55,56,57,58,59,60,61,62,63,64,65,66,67,68,69,70,71,72,73,74,75,76,77,78,79,80,81,82,83,84,85,86,87,88,89,90,91,92,93,94,95,96,97,98,99,100,"
     ]
    }
   ],
   "source": [
    "n=0\n",
    "while(n<101):\n",
    "    print(n,end=',')\n",
    "    n +=1"
   ]
  },
  {
   "cell_type": "code",
   "execution_count": 2,
   "id": "448c7e6c",
   "metadata": {},
   "outputs": [
    {
     "name": "stdout",
     "output_type": "stream",
     "text": [
      "7,14,21,28,35,42,49,56,63,70,77,84,91,98,"
     ]
    }
   ],
   "source": [
    "n = 1\n",
    "while(n<101):\n",
    "    if(n %7==0):\n",
    "        print(n,end=',')\n",
    "    n +=1  "
   ]
  },
  {
   "cell_type": "markdown",
   "id": "11f2524e",
   "metadata": {},
   "source": []
  },
  {
   "cell_type": "code",
   "execution_count": 4,
   "id": "89695a66",
   "metadata": {},
   "outputs": [
    {
     "name": "stdout",
     "output_type": "stream",
     "text": [
      "385,770,1155,1540,1925,2310,2695,3080,3465,3850,4235,4620,5005,5390,5775,6160,6545,6930,7315,7700,"
     ]
    }
   ],
   "source": [
    "number_found = 0\n",
    "n=1\n",
    "while(number_found < 20):\n",
    "    if(n%5 == 0 and n%7 == 0 and n%11==0):\n",
    "        print(n,end=',')\n",
    "        number_found +=1\n",
    "    n+=1"
   ]
  },
  {
   "cell_type": "code",
   "execution_count": null,
   "id": "f500aeff",
   "metadata": {},
   "outputs": [],
   "source": []
  },
  {
   "cell_type": "code",
   "execution_count": 5,
   "id": "8181d4f9",
   "metadata": {},
   "outputs": [
    {
     "name": "stdout",
     "output_type": "stream",
     "text": [
      "2520\n"
     ]
    }
   ],
   "source": [
    "n = 1\n",
    "while(n<5000):\n",
    "    if(n%1 == 0 and n%2==0 and n%3==0 and n%4==0 and n%5==0 and n%6==0 and n%7==0 and n%8==0 and n%9==0 and n%10==0):\n",
    "        print(n)\n",
    "    n+=1"
   ]
  },
  {
   "cell_type": "code",
   "execution_count": 6,
   "id": "af08a304",
   "metadata": {},
   "outputs": [
    {
     "name": "stdout",
     "output_type": "stream",
     "text": [
      "310,155,466,233,700,350,175,526,263,790,395,1186,593,1780,890,445,1336,668,334,167,502,251,754,377,1132,566,283,850,425,1276,638,319,958,479,1438,719,2158,1079,3238,1619,4858,2429,7288,3644,1822,911,2734,1367,4102,2051,6154,3077,9232,4616,2308,1154,577,1732,866,433,1300,650,325,976,488,244,122,61,184,92,46,23,70,35,106,53,160,80,40,20,10,5,16,8,4,2,1,"
     ]
    }
   ],
   "source": [
    "n = 103\n",
    "while(n!=1):\n",
    "    if(n%2 == 0):\n",
    "        n = n/2        \n",
    "    elif(n%2==1):\n",
    "        n=3*n+1\n",
    "    print(int(n),end=',')"
   ]
  },
  {
   "cell_type": "markdown",
   "id": "511ca8cb",
   "metadata": {},
   "source": [
    "# 3-Functions\n"
   ]
  },
  {
   "cell_type": "code",
   "execution_count": 12,
   "id": "aa363478",
   "metadata": {},
   "outputs": [
    {
     "name": "stdout",
     "output_type": "stream",
     "text": [
      "Hello, world\n"
     ]
    }
   ],
   "source": [
    "def hello_world():\n",
    "    print('Hello, world')\n",
    "hello_world()"
   ]
  },
  {
   "cell_type": "code",
   "execution_count": 13,
   "id": "e531bc5d",
   "metadata": {},
   "outputs": [
    {
     "name": "stdout",
     "output_type": "stream",
     "text": [
      "Hello, Mustafa\n"
     ]
    }
   ],
   "source": [
    "def hello_name(name):\n",
    "    print('Hello, ' +name)\n",
    "hello_name('Mustafa')"
   ]
  },
  {
   "cell_type": "markdown",
   "id": "a9da9f4a",
   "metadata": {},
   "source": [
    "C: Return keyword is variable that the function result back to the caller\n",
    "print is a function that print the variables. Return show how a function gives back a value "
   ]
  },
  {
   "cell_type": "code",
   "execution_count": 19,
   "id": "31634eee",
   "metadata": {},
   "outputs": [
    {
     "name": "stdout",
     "output_type": "stream",
     "text": [
      "46\n"
     ]
    }
   ],
   "source": [
    "def poly(a):\n",
    "    print(3*(a*a)-a+2)\n",
    "    \n",
    "poly(4)\n",
    "    "
   ]
  },
  {
   "cell_type": "code",
   "execution_count": 20,
   "id": "0295eb89",
   "metadata": {},
   "outputs": [
    {
     "data": {
      "text/plain": [
       "3"
      ]
     },
     "execution_count": 20,
     "metadata": {},
     "output_type": "execute_result"
    }
   ],
   "source": [
    "def my_max(x,y):\n",
    "    if(x>y):\n",
    "        return x\n",
    "    else:\n",
    "        return y\n",
    "my_max(3,2) "
   ]
  },
  {
   "cell_type": "code",
   "execution_count": 21,
   "id": "c181d22c",
   "metadata": {},
   "outputs": [
    {
     "data": {
      "text/plain": [
       "4"
      ]
     },
     "execution_count": 21,
     "metadata": {},
     "output_type": "execute_result"
    }
   ],
   "source": [
    "def my_max(x,y):\n",
    "    if(x>y):\n",
    "        return x\n",
    "    if(x>y):\n",
    "        return y\n",
    "my_max(3,4)"
   ]
  },
  {
   "cell_type": "code",
   "execution_count": null,
   "id": "63d6b95e",
   "metadata": {},
   "outputs": [],
   "source": []
  }
 ],
 "metadata": {
  "kernelspec": {
   "display_name": "Python 3 (ipykernel)",
   "language": "python",
   "name": "python3"
  },
  "language_info": {
   "codemirror_mode": {
    "name": "ipython",
    "version": 3
   },
   "file_extension": ".py",
   "mimetype": "text/x-python",
   "name": "python",
   "nbconvert_exporter": "python",
   "pygments_lexer": "ipython3",
   "version": "3.10.2"
  }
 },
 "nbformat": 4,
 "nbformat_minor": 5
}
